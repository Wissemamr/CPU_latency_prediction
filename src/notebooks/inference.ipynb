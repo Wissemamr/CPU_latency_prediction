{
 "cells": [
  {
   "cell_type": "code",
   "execution_count": 4,
   "metadata": {},
   "outputs": [
    {
     "data": {
      "text/html": [
       "<div>\n",
       "<style scoped>\n",
       "    .dataframe tbody tr th:only-of-type {\n",
       "        vertical-align: middle;\n",
       "    }\n",
       "\n",
       "    .dataframe tbody tr th {\n",
       "        vertical-align: top;\n",
       "    }\n",
       "\n",
       "    .dataframe thead th {\n",
       "        text-align: right;\n",
       "    }\n",
       "</style>\n",
       "<table border=\"1\" class=\"dataframe\">\n",
       "  <thead>\n",
       "    <tr style=\"text-align: right;\">\n",
       "      <th></th>\n",
       "      <th>ID</th>\n",
       "      <th>timestamp</th>\n",
       "      <th>cpu_type</th>\n",
       "      <th>cpu_limit</th>\n",
       "      <th>ram_limit</th>\n",
       "      <th>cpu_usage</th>\n",
       "      <th>ram_usage</th>\n",
       "      <th>num_req</th>\n",
       "      <th>conc_lvl</th>\n",
       "      <th>latency</th>\n",
       "    </tr>\n",
       "  </thead>\n",
       "  <tbody>\n",
       "    <tr>\n",
       "      <th>0</th>\n",
       "      <td>2714</td>\n",
       "      <td>2021-11-04 23:15:38</td>\n",
       "      <td>Intel Xeon Gold 5317</td>\n",
       "      <td>2.0</td>\n",
       "      <td>70M</td>\n",
       "      <td>0.084450</td>\n",
       "      <td>46854144.0</td>\n",
       "      <td>100</td>\n",
       "      <td>71</td>\n",
       "      <td>7429000</td>\n",
       "    </tr>\n",
       "    <tr>\n",
       "      <th>1</th>\n",
       "      <td>38113</td>\n",
       "      <td>2021-11-04 23:23:27</td>\n",
       "      <td>AMD EPYC 72F3</td>\n",
       "      <td>2.0</td>\n",
       "      <td>70M</td>\n",
       "      <td>0.277893</td>\n",
       "      <td>55934976.0</td>\n",
       "      <td>300</td>\n",
       "      <td>21</td>\n",
       "      <td>2196000</td>\n",
       "    </tr>\n",
       "    <tr>\n",
       "      <th>2</th>\n",
       "      <td>33409</td>\n",
       "      <td>2021-11-11 13:32:59</td>\n",
       "      <td>Intel Xeon Platinum 8380</td>\n",
       "      <td>2.5</td>\n",
       "      <td>66M</td>\n",
       "      <td>0.351042</td>\n",
       "      <td>59109376.0</td>\n",
       "      <td>700</td>\n",
       "      <td>1</td>\n",
       "      <td>37000</td>\n",
       "    </tr>\n",
       "    <tr>\n",
       "      <th>3</th>\n",
       "      <td>10123</td>\n",
       "      <td>2022-03-19 02:35:05</td>\n",
       "      <td>Intel Xeon Platinum 8356H</td>\n",
       "      <td>0.8</td>\n",
       "      <td>768M</td>\n",
       "      <td>0.026230</td>\n",
       "      <td>43659264.0</td>\n",
       "      <td>100</td>\n",
       "      <td>41</td>\n",
       "      <td>3946000</td>\n",
       "    </tr>\n",
       "    <tr>\n",
       "      <th>4</th>\n",
       "      <td>12815</td>\n",
       "      <td>2022-03-17 06:30:29</td>\n",
       "      <td>AMD EPYC 72F3</td>\n",
       "      <td>0.4</td>\n",
       "      <td>512M</td>\n",
       "      <td>0.108346</td>\n",
       "      <td>51048448.0</td>\n",
       "      <td>800</td>\n",
       "      <td>51</td>\n",
       "      <td>5084000</td>\n",
       "    </tr>\n",
       "    <tr>\n",
       "      <th>5</th>\n",
       "      <td>28329</td>\n",
       "      <td>2022-03-17 03:24:01</td>\n",
       "      <td>AMD Ryzen 7 5700G</td>\n",
       "      <td>0.7</td>\n",
       "      <td>640M</td>\n",
       "      <td>0.176399</td>\n",
       "      <td>49741824.0</td>\n",
       "      <td>900</td>\n",
       "      <td>1</td>\n",
       "      <td>41000</td>\n",
       "    </tr>\n",
       "    <tr>\n",
       "      <th>6</th>\n",
       "      <td>4640</td>\n",
       "      <td>2021-10-29 11:25:58</td>\n",
       "      <td>Intel Core i5-11600KF</td>\n",
       "      <td>4.0</td>\n",
       "      <td>100M</td>\n",
       "      <td>0.338188</td>\n",
       "      <td>63946752.0</td>\n",
       "      <td>800</td>\n",
       "      <td>1</td>\n",
       "      <td>43000</td>\n",
       "    </tr>\n",
       "    <tr>\n",
       "      <th>7</th>\n",
       "      <td>37077</td>\n",
       "      <td>2021-11-04 00:06:16</td>\n",
       "      <td>AMD Ryzen 5 5500U</td>\n",
       "      <td>1.5</td>\n",
       "      <td>95M</td>\n",
       "      <td>0.285003</td>\n",
       "      <td>61038592.0</td>\n",
       "      <td>400</td>\n",
       "      <td>101</td>\n",
       "      <td>10501000</td>\n",
       "    </tr>\n",
       "    <tr>\n",
       "      <th>8</th>\n",
       "      <td>7195</td>\n",
       "      <td>2022-03-07 03:27:45</td>\n",
       "      <td>Intel Core i5-11500</td>\n",
       "      <td>0.2</td>\n",
       "      <td>256M</td>\n",
       "      <td>0.183900</td>\n",
       "      <td>69357568.0</td>\n",
       "      <td>1000</td>\n",
       "      <td>51</td>\n",
       "      <td>9295000</td>\n",
       "    </tr>\n",
       "    <tr>\n",
       "      <th>9</th>\n",
       "      <td>3579</td>\n",
       "      <td>2021-11-10 16:28:36</td>\n",
       "      <td>AMD EPYC 7443P</td>\n",
       "      <td>1.0</td>\n",
       "      <td>75M</td>\n",
       "      <td>0.167426</td>\n",
       "      <td>58519552.0</td>\n",
       "      <td>200</td>\n",
       "      <td>21</td>\n",
       "      <td>2134000</td>\n",
       "    </tr>\n",
       "  </tbody>\n",
       "</table>\n",
       "</div>"
      ],
      "text/plain": [
       "      ID            timestamp                   cpu_type  cpu_limit ram_limit  \\\n",
       "0   2714  2021-11-04 23:15:38       Intel Xeon Gold 5317        2.0       70M   \n",
       "1  38113  2021-11-04 23:23:27              AMD EPYC 72F3        2.0       70M   \n",
       "2  33409  2021-11-11 13:32:59   Intel Xeon Platinum 8380        2.5       66M   \n",
       "3  10123  2022-03-19 02:35:05  Intel Xeon Platinum 8356H        0.8      768M   \n",
       "4  12815  2022-03-17 06:30:29              AMD EPYC 72F3        0.4      512M   \n",
       "5  28329  2022-03-17 03:24:01          AMD Ryzen 7 5700G        0.7      640M   \n",
       "6   4640  2021-10-29 11:25:58      Intel Core i5-11600KF        4.0      100M   \n",
       "7  37077  2021-11-04 00:06:16          AMD Ryzen 5 5500U        1.5       95M   \n",
       "8   7195  2022-03-07 03:27:45        Intel Core i5-11500        0.2      256M   \n",
       "9   3579  2021-11-10 16:28:36             AMD EPYC 7443P        1.0       75M   \n",
       "\n",
       "   cpu_usage   ram_usage  num_req  conc_lvl   latency  \n",
       "0   0.084450  46854144.0      100        71   7429000  \n",
       "1   0.277893  55934976.0      300        21   2196000  \n",
       "2   0.351042  59109376.0      700         1     37000  \n",
       "3   0.026230  43659264.0      100        41   3946000  \n",
       "4   0.108346  51048448.0      800        51   5084000  \n",
       "5   0.176399  49741824.0      900         1     41000  \n",
       "6   0.338188  63946752.0      800         1     43000  \n",
       "7   0.285003  61038592.0      400       101  10501000  \n",
       "8   0.183900  69357568.0     1000        51   9295000  \n",
       "9   0.167426  58519552.0      200        21   2134000  "
      ]
     },
     "execution_count": 4,
     "metadata": {},
     "output_type": "execute_result"
    }
   ],
   "source": [
    "import pandas as pd\n",
    "\n",
    "og_df = pd.read_csv(\"../../data/training_data.csv\")\n",
    "og_df.head(10)"
   ]
  },
  {
   "cell_type": "code",
   "execution_count": 5,
   "metadata": {},
   "outputs": [
    {
     "data": {
      "text/plain": [
       "(41134, 10)"
      ]
     },
     "execution_count": 5,
     "metadata": {},
     "output_type": "execute_result"
    }
   ],
   "source": [
    "og_df.shape"
   ]
  },
  {
   "cell_type": "code",
   "execution_count": 6,
   "metadata": {},
   "outputs": [
    {
     "data": {
      "text/plain": [
       "(17629, 10)"
      ]
     },
     "execution_count": 6,
     "metadata": {},
     "output_type": "execute_result"
    }
   ],
   "source": [
    "pred_df = pd.read_csv(\"../../data/predictions_averaged.csv\")\n",
    "\n",
    "pred_df.shape"
   ]
  },
  {
   "cell_type": "code",
   "execution_count": 7,
   "metadata": {},
   "outputs": [],
   "source": [
    "og_latency = og_df[\"latency\"].values\n",
    "pred_latency = pred_df[\"predicted_latency\"].values"
   ]
  },
  {
   "cell_type": "code",
   "execution_count": 8,
   "metadata": {},
   "outputs": [],
   "source": [
    "# get statistics\n",
    "import numpy as np\n",
    "\n",
    "og_mean = np.mean(og_latency)\n",
    "og_median = np.median(og_latency)\n",
    "og_std = np.std(og_latency)\n",
    "\n",
    "pred_mean = np.mean(pred_latency)\n",
    "pred_median = np.median(pred_latency)\n",
    "pred_std = np.std(pred_latency)"
   ]
  },
  {
   "cell_type": "code",
   "execution_count": 9,
   "metadata": {},
   "outputs": [
    {
     "name": "stdout",
     "output_type": "stream",
     "text": [
      "Original Latency Statistics:\n",
      "Mean: 6483698.181552974\n",
      "Median: 3756000.0\n",
      "Standard Deviation: 14925343.784156676\n",
      "\n",
      "Predicted Latency Statistics:\n",
      "Mean: 6615406.523883406\n",
      "Median: 3881269.567363308\n",
      "Standard Deviation: 14155729.681575939\n"
     ]
    }
   ],
   "source": [
    "print(\"Original Latency Statistics:\")\n",
    "print(f\"Mean: {og_mean}\")\n",
    "print(f\"Median: {og_median}\")\n",
    "print(f\"Standard Deviation: {og_std}\")\n",
    "print()\n",
    "\n",
    "print(\"Predicted Latency Statistics:\")\n",
    "print(f\"Mean: {pred_mean}\")\n",
    "print(f\"Median: {pred_median}\")\n",
    "print(f\"Standard Deviation: {pred_std}\")"
   ]
  },
  {
   "cell_type": "markdown",
   "metadata": {},
   "source": [
    "## Interpreptation\n",
    "As we can observe, the statistics are similar between the oriignal training data and the predicted data"
   ]
  }
 ],
 "metadata": {
  "kernelspec": {
   "display_name": "Python 3",
   "language": "python",
   "name": "python3"
  },
  "language_info": {
   "codemirror_mode": {
    "name": "ipython",
    "version": 3
   },
   "file_extension": ".py",
   "mimetype": "text/x-python",
   "name": "python",
   "nbconvert_exporter": "python",
   "pygments_lexer": "ipython3",
   "version": "3.10.12"
  }
 },
 "nbformat": 4,
 "nbformat_minor": 2
}
